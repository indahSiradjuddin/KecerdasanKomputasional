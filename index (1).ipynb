{
 "cells": [
  {
   "cell_type": "markdown",
   "metadata": {},
   "source": [
    "# Computational Intelligence\n",
    "\n",
    "*Indah Agustien Siradjuddin*\n",
    "\n",
    "Perkuliahan Computational Intelligence pada Semester Genap "
   ]
  },
  {
   "cell_type": "markdown",
   "metadata": {},
   "source": [
    "## Materi Perkuliahan\n",
    "Berikut daftar isi materi Struktur Data selama satu Semester ini :"
   ]
  },
  {
   "cell_type": "markdown",
   "metadata": {},
   "source": [
    "### 1. Pengenalan Tools - NumPy, SciPy\n",
    "  + [NumPy-SciPy](introductionNumPy.ipynb)\n",
    "\n",
    "### 2. *Computational Intelligence*\n",
    "  + [Pengenalan *Computational Intelligence*](introduction.ipynb)\n",
    "   \n",
    "### 3. *Fuzzy Systems*\n",
    "  + [Pengenalan Himpunan Fuzzy](introductionFuzzy.ipynb)\n",
    "  + [*Fuzzy Logic* dan *Reasoning*](reasoning.ipynb)\n",
    "  + [Implementasi dan Topik Penelitian](implementationFuzzy.ipynb)\n",
    "\n",
    " \n",
    "### 4. *Evolutionary Computation*\n",
    "  + [Pengenalan *Evolutionary Computation*](introductionEC.ipynb)\n",
    "  + [Algortima Genetika](ga.ipynb)\n",
    "  + [Implementasi dan Topik Penelitian](implementationEC.ipynb)\n",
    "  \n",
    "### 5. Jaringan Syaraf Tiruan\n",
    "  + [Pengenalan Jaringan Syaraf Tiruan](introductionNN.ipynb)\n",
    "  + [*Learning / Training*](learning.ipynb)\n",
    "  + [*Supervised Learning*](supLearn.ipynb)\n",
    "  + [*Unsupervised Learning*](unsupLearn.ipynb)\n",
    "  + [Implementasi dan Topik Penelitian](implementationNN.ipynb)\n",
    " \n",
    "### 6. *Swarm Intelligence*\n",
    "  + [Pengenalan *Swarm Intelligence*](introductionSI.ipynb)\n",
    "  + [*Particle Swarm Optimization*](pso.ipynb)\n",
    "  + [*Ant Colony Optimization*](aco.ipynb)\n",
    "  + [Implementasi dan Topik Penelitian](implementationSI.ipynb)\n",
    "\n",
    "\n",
    "### 7. *Artificial Immune Systems [optional]*\n",
    "  + [Pengenalan *Artificial Immune Systems*](introductionAIS.ipynb)\n",
    "  + [*Artificial Immune Models*](reasoning.ipynb)\n",
    "  + [Implementasi dan Topik Penelitian](implementationFuzzy.ipynb)"
   ]
  },
  {
   "cell_type": "markdown",
   "metadata": {},
   "source": [
    "## Aturan Perkuliahan\n",
    "1. **Absen** - Mengikuti aturan yang sudah ditetapkan Universitas Trunojoyo Madura\n",
    "2. **Edmodo** - Wajib mendaftar pada kode edmodo yang sudah ditentukan (materi, tugas, nilai, pengumuman)\n",
    "3. **Nilai** - Tugas, UTS, dan UAS\n",
    "4. **Tidak Ada Perbaikan Nilai**"
   ]
  },
  {
   "cell_type": "code",
   "execution_count": null,
   "metadata": {
    "collapsed": true
   },
   "outputs": [],
   "source": []
  }
 ],
 "metadata": {
  "kernelspec": {
   "display_name": "Python 3",
   "language": "python",
   "name": "python3"
  },
  "language_info": {
   "codemirror_mode": {
    "name": "ipython",
    "version": 3
   },
   "file_extension": ".py",
   "mimetype": "text/x-python",
   "name": "python",
   "nbconvert_exporter": "python",
   "pygments_lexer": "ipython3",
   "version": "3.6.0"
  }
 },
 "nbformat": 4,
 "nbformat_minor": 2
}
